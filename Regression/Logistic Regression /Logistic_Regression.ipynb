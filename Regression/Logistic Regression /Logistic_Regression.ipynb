{
  "nbformat": 4,
  "nbformat_minor": 0,
  "metadata": {
    "colab": {
      "name": "Logistic_Regression_1393.ipynb",
      "provenance": [],
      "collapsed_sections": [
        "29RAGhSLRIKQ",
        "OYYu9FksRMhE",
        "bb6jCOCQiAmP"
      ]
    },
    "kernelspec": {
      "name": "python3",
      "display_name": "Python 3"
    },
    "language_info": {
      "name": "python"
    }
  },
  "cells": [
    {
      "cell_type": "markdown",
      "metadata": {
        "id": "0MRC0e0KhQ0S"
      },
      "source": [
        "# Logistic Regression"
      ]
    },
    {
      "cell_type": "markdown",
      "metadata": {
        "id": "LWd1UlMnhT2s"
      },
      "source": [
        "## Importing the libraries"
      ]
    },
    {
      "cell_type": "code",
      "metadata": {
        "id": "YvGPUQaHhXfL"
      },
      "source": [
        "import numpy as np\n",
        "import matplotlib.pyplot as plt\n",
        "import seaborn as sns\n",
        "import pandas as pd\n",
        "from sklearn.preprocessing import LabelEncoder\n",
        "from sklearn.model_selection import train_test_split\n",
        "from sklearn.linear_model import LogisticRegression\n",
        "from sklearn.metrics import confusion_matrix, accuracy_score\n",
        "from matplotlib.colors import ListedColormap\n",
        "from sklearn.preprocessing import StandardScaler"
      ],
      "execution_count": 167,
      "outputs": []
    },
    {
      "cell_type": "markdown",
      "metadata": {
        "id": "K1VMqkGvhc3-"
      },
      "source": [
        "## Importing the dataset"
      ]
    },
    {
      "cell_type": "code",
      "metadata": {
        "colab": {
          "base_uri": "https://localhost:8080/"
        },
        "id": "ZyBDlIDqLn_R",
        "outputId": "782dc44a-9a9b-43b7-a7db-712df8a2b692"
      },
      "source": [
        "from google.colab import drive\n",
        "drive.mount('/content/drive')"
      ],
      "execution_count": 168,
      "outputs": [
        {
          "output_type": "stream",
          "name": "stdout",
          "text": [
            "Drive already mounted at /content/drive; to attempt to forcibly remount, call drive.mount(\"/content/drive\", force_remount=True).\n"
          ]
        }
      ]
    },
    {
      "cell_type": "markdown",
      "source": [
        "### Dataset Inquiry"
      ],
      "metadata": {
        "id": "wFokCXKw7li8"
      }
    },
    {
      "cell_type": "code",
      "metadata": {
        "id": "M52QDmyzhh9s"
      },
      "source": [
        "dataset = pd.read_csv('/content/drive/MyDrive/Colab Notebooks/ML Datasets/50_Startups.csv')\n",
        "X = dataset.iloc[:, :-1].values\n",
        "y = dataset.iloc[:, -1].values"
      ],
      "execution_count": 169,
      "outputs": []
    },
    {
      "cell_type": "markdown",
      "source": [
        "**Features**"
      ],
      "metadata": {
        "id": "Fh9tkhxN8Kmd"
      }
    },
    {
      "cell_type": "code",
      "source": [
        "print(X)"
      ],
      "metadata": {
        "colab": {
          "base_uri": "https://localhost:8080/"
        },
        "id": "wV3LB63b8CX_",
        "outputId": "13e94df3-aa98-4e14-d187-4fce0c3c4a87"
      },
      "execution_count": 170,
      "outputs": [
        {
          "output_type": "stream",
          "name": "stdout",
          "text": [
            "[[165349.2 136897.8 471784.1 'New York']\n",
            " [162597.7 151377.59 443898.53 'California']\n",
            " [153441.51 101145.55 407934.54 'Florida']\n",
            " [144372.41 118671.85 383199.62 'New York']\n",
            " [142107.34 91391.77 366168.42 'Florida']\n",
            " [131876.9 99814.71 362861.36 'New York']\n",
            " [134615.46 147198.87 127716.82 'California']\n",
            " [130298.13 145530.06 323876.68 'Florida']\n",
            " [120542.52 148718.95 311613.29 'New York']\n",
            " [123334.88 108679.17 304981.62 'California']\n",
            " [101913.08 110594.11 229160.95 'Florida']\n",
            " [100671.96 91790.61 249744.55 'California']\n",
            " [93863.75 127320.38 249839.44 'Florida']\n",
            " [91992.39 135495.07 252664.93 'California']\n",
            " [119943.24 156547.42 256512.92 'Florida']\n",
            " [114523.61 122616.84 261776.23 'New York']\n",
            " [78013.11 121597.55 264346.06 'California']\n",
            " [94657.16 145077.58 282574.31 'New York']\n",
            " [91749.16 114175.79 294919.57 'Florida']\n",
            " [86419.7 153514.11 0.0 'New York']\n",
            " [76253.86 113867.3 298664.47 'California']\n",
            " [78389.47 153773.43 299737.29 'New York']\n",
            " [73994.56 122782.75 303319.26 'Florida']\n",
            " [67532.53 105751.03 304768.73 'Florida']\n",
            " [77044.01 99281.34 140574.81 'New York']\n",
            " [64664.71 139553.16 137962.62 'California']\n",
            " [75328.87 144135.98 134050.07 'Florida']\n",
            " [72107.6 127864.55 353183.81 'New York']\n",
            " [66051.52 182645.56 118148.2 'Florida']\n",
            " [65605.48 153032.06 107138.38 'New York']\n",
            " [61994.48 115641.28 91131.24 'Florida']\n",
            " [61136.38 152701.92 88218.23 'New York']\n",
            " [63408.86 129219.61 46085.25 'California']\n",
            " [55493.95 103057.49 214634.81 'Florida']\n",
            " [46426.07 157693.92 210797.67 'California']\n",
            " [46014.02 85047.44 205517.64 'New York']\n",
            " [28663.76 127056.21 201126.82 'Florida']\n",
            " [44069.95 51283.14 197029.42 'California']\n",
            " [20229.59 65947.93 185265.1 'New York']\n",
            " [38558.51 82982.09 174999.3 'California']\n",
            " [28754.33 118546.05 172795.67 'California']\n",
            " [27892.92 84710.77 164470.71 'Florida']\n",
            " [23640.93 96189.63 148001.11 'California']\n",
            " [15505.73 127382.3 35534.17 'New York']\n",
            " [22177.74 154806.14 28334.72 'California']\n",
            " [1000.23 124153.04 1903.93 'New York']\n",
            " [1315.46 115816.21 297114.46 'Florida']\n",
            " [0.0 135426.92 0.0 'California']\n",
            " [542.05 51743.15 0.0 'New York']\n",
            " [0.0 116983.8 45173.06 'California']]\n"
          ]
        }
      ]
    },
    {
      "cell_type": "markdown",
      "source": [
        "**Labels**"
      ],
      "metadata": {
        "id": "qEqU8KYC8Lu1"
      }
    },
    {
      "cell_type": "code",
      "source": [
        "print(y)"
      ],
      "metadata": {
        "colab": {
          "base_uri": "https://localhost:8080/"
        },
        "id": "M2qN7Lmm8EU_",
        "outputId": "286b6e71-e07c-4263-c425-9938fb45deaa"
      },
      "execution_count": 171,
      "outputs": [
        {
          "output_type": "stream",
          "name": "stdout",
          "text": [
            "[192261.83 191792.06 191050.39 182901.99 166187.94 156991.12 156122.51\n",
            " 155752.6  152211.77 149759.96 146121.95 144259.4  141585.52 134307.35\n",
            " 132602.65 129917.04 126992.93 125370.37 124266.9  122776.86 118474.03\n",
            " 111313.02 110352.25 108733.99 108552.04 107404.34 105733.54 105008.31\n",
            " 103282.38 101004.64  99937.59  97483.56  97427.84  96778.92  96712.8\n",
            "  96479.51  90708.19  89949.14  81229.06  81005.76  78239.91  77798.83\n",
            "  71498.49  69758.98  65200.33  64926.08  49490.75  42559.73  35673.41\n",
            "  14681.4 ]\n"
          ]
        }
      ]
    },
    {
      "cell_type": "markdown",
      "source": [
        "### Independent Variable Encoding\n",
        "state column is being encodded here\n"
      ],
      "metadata": {
        "id": "Lay3HsYE4jQY"
      }
    },
    {
      "cell_type": "code",
      "source": [
        "le = LabelEncoder()\n",
        "X[:,3] = le.fit_transform(X[:,3])\n",
        "print(X)"
      ],
      "metadata": {
        "colab": {
          "base_uri": "https://localhost:8080/"
        },
        "id": "Dmix-0fg4ixV",
        "outputId": "835af839-48de-43b6-fa08-0ad07c2060f7"
      },
      "execution_count": 172,
      "outputs": [
        {
          "output_type": "stream",
          "name": "stdout",
          "text": [
            "[[165349.2 136897.8 471784.1 2]\n",
            " [162597.7 151377.59 443898.53 0]\n",
            " [153441.51 101145.55 407934.54 1]\n",
            " [144372.41 118671.85 383199.62 2]\n",
            " [142107.34 91391.77 366168.42 1]\n",
            " [131876.9 99814.71 362861.36 2]\n",
            " [134615.46 147198.87 127716.82 0]\n",
            " [130298.13 145530.06 323876.68 1]\n",
            " [120542.52 148718.95 311613.29 2]\n",
            " [123334.88 108679.17 304981.62 0]\n",
            " [101913.08 110594.11 229160.95 1]\n",
            " [100671.96 91790.61 249744.55 0]\n",
            " [93863.75 127320.38 249839.44 1]\n",
            " [91992.39 135495.07 252664.93 0]\n",
            " [119943.24 156547.42 256512.92 1]\n",
            " [114523.61 122616.84 261776.23 2]\n",
            " [78013.11 121597.55 264346.06 0]\n",
            " [94657.16 145077.58 282574.31 2]\n",
            " [91749.16 114175.79 294919.57 1]\n",
            " [86419.7 153514.11 0.0 2]\n",
            " [76253.86 113867.3 298664.47 0]\n",
            " [78389.47 153773.43 299737.29 2]\n",
            " [73994.56 122782.75 303319.26 1]\n",
            " [67532.53 105751.03 304768.73 1]\n",
            " [77044.01 99281.34 140574.81 2]\n",
            " [64664.71 139553.16 137962.62 0]\n",
            " [75328.87 144135.98 134050.07 1]\n",
            " [72107.6 127864.55 353183.81 2]\n",
            " [66051.52 182645.56 118148.2 1]\n",
            " [65605.48 153032.06 107138.38 2]\n",
            " [61994.48 115641.28 91131.24 1]\n",
            " [61136.38 152701.92 88218.23 2]\n",
            " [63408.86 129219.61 46085.25 0]\n",
            " [55493.95 103057.49 214634.81 1]\n",
            " [46426.07 157693.92 210797.67 0]\n",
            " [46014.02 85047.44 205517.64 2]\n",
            " [28663.76 127056.21 201126.82 1]\n",
            " [44069.95 51283.14 197029.42 0]\n",
            " [20229.59 65947.93 185265.1 2]\n",
            " [38558.51 82982.09 174999.3 0]\n",
            " [28754.33 118546.05 172795.67 0]\n",
            " [27892.92 84710.77 164470.71 1]\n",
            " [23640.93 96189.63 148001.11 0]\n",
            " [15505.73 127382.3 35534.17 2]\n",
            " [22177.74 154806.14 28334.72 0]\n",
            " [1000.23 124153.04 1903.93 2]\n",
            " [1315.46 115816.21 297114.46 1]\n",
            " [0.0 135426.92 0.0 0]\n",
            " [542.05 51743.15 0.0 2]\n",
            " [0.0 116983.8 45173.06 0]]\n"
          ]
        }
      ]
    },
    {
      "cell_type": "markdown",
      "source": [
        "### Dependent Variable Encoding"
      ],
      "metadata": {
        "id": "_OuTheNYEF0q"
      }
    },
    {
      "cell_type": "code",
      "source": [
        "#calculating the average of the label(Profit)\n",
        "print(y.mean())"
      ],
      "metadata": {
        "colab": {
          "base_uri": "https://localhost:8080/"
        },
        "id": "ObwfdzR_83kB",
        "outputId": "386c60fe-a18c-4ca0-a94b-14f0bb922abf"
      },
      "execution_count": 173,
      "outputs": [
        {
          "output_type": "stream",
          "name": "stdout",
          "text": [
            "112012.63920000002\n"
          ]
        }
      ]
    },
    {
      "cell_type": "code",
      "source": [
        "y_mean = y.mean()\n",
        "y_modified = []\n",
        "\n",
        "for i in y:\n",
        "  if i >= y_mean:\n",
        "    y_modified.append(1)\n",
        "  else:\n",
        "    y_modified.append(0)\n",
        "y = np.array(y_modified)\n",
        "y"
      ],
      "metadata": {
        "colab": {
          "base_uri": "https://localhost:8080/"
        },
        "id": "E8hMgVmT-Kfw",
        "outputId": "b86b1bb0-24d0-4688-d7a8-740e465ac124"
      },
      "execution_count": 174,
      "outputs": [
        {
          "output_type": "execute_result",
          "data": {
            "text/plain": [
              "array([1, 1, 1, 1, 1, 1, 1, 1, 1, 1, 1, 1, 1, 1, 1, 1, 1, 1, 1, 1, 1, 0,\n",
              "       0, 0, 0, 0, 0, 0, 0, 0, 0, 0, 0, 0, 0, 0, 0, 0, 0, 0, 0, 0, 0, 0,\n",
              "       0, 0, 0, 0, 0, 0])"
            ]
          },
          "metadata": {},
          "execution_count": 174
        }
      ]
    },
    {
      "cell_type": "markdown",
      "metadata": {
        "id": "YvxIPVyMhmKp"
      },
      "source": [
        "## Splitting the dataset into the Training set and Test set"
      ]
    },
    {
      "cell_type": "code",
      "metadata": {
        "id": "AVzJWAXIhxoC"
      },
      "source": [
        "X_train, X_test, y_train, y_test = train_test_split(X, y, test_size = 0.25, random_state = 0)"
      ],
      "execution_count": 175,
      "outputs": []
    },
    {
      "cell_type": "code",
      "metadata": {
        "id": "P3nS3-6r1i2B",
        "colab": {
          "base_uri": "https://localhost:8080/"
        },
        "outputId": "8a4e608f-ca74-42ba-a21c-9f0bc745f8e0"
      },
      "source": [
        "print(X_train)"
      ],
      "execution_count": 176,
      "outputs": [
        {
          "output_type": "stream",
          "name": "stdout",
          "text": [
            "[[46426.07 157693.92 210797.67 0]\n",
            " [91749.16 114175.79 294919.57 1]\n",
            " [130298.13 145530.06 323876.68 1]\n",
            " [119943.24 156547.42 256512.92 1]\n",
            " [1000.23 124153.04 1903.93 2]\n",
            " [542.05 51743.15 0.0 2]\n",
            " [65605.48 153032.06 107138.38 2]\n",
            " [114523.61 122616.84 261776.23 2]\n",
            " [61994.48 115641.28 91131.24 1]\n",
            " [63408.86 129219.61 46085.25 0]\n",
            " [78013.11 121597.55 264346.06 0]\n",
            " [23640.93 96189.63 148001.11 0]\n",
            " [76253.86 113867.3 298664.47 0]\n",
            " [15505.73 127382.3 35534.17 2]\n",
            " [120542.52 148718.95 311613.29 2]\n",
            " [91992.39 135495.07 252664.93 0]\n",
            " [64664.71 139553.16 137962.62 0]\n",
            " [131876.9 99814.71 362861.36 2]\n",
            " [94657.16 145077.58 282574.31 2]\n",
            " [28754.33 118546.05 172795.67 0]\n",
            " [0.0 116983.8 45173.06 0]\n",
            " [162597.7 151377.59 443898.53 0]\n",
            " [93863.75 127320.38 249839.44 1]\n",
            " [44069.95 51283.14 197029.42 0]\n",
            " [77044.01 99281.34 140574.81 2]\n",
            " [134615.46 147198.87 127716.82 0]\n",
            " [67532.53 105751.03 304768.73 1]\n",
            " [28663.76 127056.21 201126.82 1]\n",
            " [78389.47 153773.43 299737.29 2]\n",
            " [86419.7 153514.11 0.0 2]\n",
            " [123334.88 108679.17 304981.62 0]\n",
            " [38558.51 82982.09 174999.3 0]\n",
            " [1315.46 115816.21 297114.46 1]\n",
            " [144372.41 118671.85 383199.62 2]\n",
            " [165349.2 136897.8 471784.1 2]\n",
            " [0.0 135426.92 0.0 0]\n",
            " [22177.74 154806.14 28334.72 0]]\n"
          ]
        }
      ]
    },
    {
      "cell_type": "code",
      "metadata": {
        "id": "8dpDLojm1mVG",
        "colab": {
          "base_uri": "https://localhost:8080/"
        },
        "outputId": "cf356d56-4097-455c-afff-0c13ef6cea6f"
      },
      "source": [
        "print(y_train)"
      ],
      "execution_count": 177,
      "outputs": [
        {
          "output_type": "stream",
          "name": "stdout",
          "text": [
            "[0 1 1 1 0 0 0 1 0 0 1 0 1 0 1 1 0 1 1 0 0 1 1 0 0 1 0 0 0 1 1 0 0 1 1 0 0]\n"
          ]
        }
      ]
    },
    {
      "cell_type": "code",
      "metadata": {
        "id": "qbb7i0DH1qui",
        "colab": {
          "base_uri": "https://localhost:8080/"
        },
        "outputId": "3d1f4ca1-0f81-4bf0-ec9f-62322d5a41be"
      },
      "source": [
        "print(X_test)"
      ],
      "execution_count": 178,
      "outputs": [
        {
          "output_type": "stream",
          "name": "stdout",
          "text": [
            "[[66051.52 182645.56 118148.2 1]\n",
            " [100671.96 91790.61 249744.55 0]\n",
            " [101913.08 110594.11 229160.95 1]\n",
            " [27892.92 84710.77 164470.71 1]\n",
            " [153441.51 101145.55 407934.54 1]\n",
            " [72107.6 127864.55 353183.81 2]\n",
            " [20229.59 65947.93 185265.1 2]\n",
            " [61136.38 152701.92 88218.23 2]\n",
            " [73994.56 122782.75 303319.26 1]\n",
            " [142107.34 91391.77 366168.42 1]\n",
            " [55493.95 103057.49 214634.81 1]\n",
            " [46014.02 85047.44 205517.64 2]\n",
            " [75328.87 144135.98 134050.07 1]]\n"
          ]
        }
      ]
    },
    {
      "cell_type": "code",
      "metadata": {
        "id": "kj1hnFAR1s5w",
        "colab": {
          "base_uri": "https://localhost:8080/"
        },
        "outputId": "d2665c5e-ee39-43ca-bc10-d229fa3bd54f"
      },
      "source": [
        "print(y_test)"
      ],
      "execution_count": 179,
      "outputs": [
        {
          "output_type": "stream",
          "name": "stdout",
          "text": [
            "[0 1 1 0 1 0 0 0 0 1 0 0 0]\n"
          ]
        }
      ]
    },
    {
      "cell_type": "markdown",
      "metadata": {
        "id": "kW3c7UYih0hT"
      },
      "source": [
        "## Feature Scaling (Write appropriate code for feature scaling)"
      ]
    },
    {
      "cell_type": "code",
      "source": [
        "sc = StandardScaler()\n",
        "X_train = sc.fit_transform(X_train)\n",
        "X_test = sc.transform(X_test)\n",
        "X_test"
      ],
      "metadata": {
        "id": "v1yGNImM7jZY",
        "colab": {
          "base_uri": "https://localhost:8080/"
        },
        "outputId": "439bb450-1555-4649-bdb7-310a77661f6a"
      },
      "execution_count": 180,
      "outputs": [
        {
          "output_type": "execute_result",
          "data": {
            "text/plain": [
              "array([[-0.13911607,  2.26499766, -0.66798559,  0.0919709 ],\n",
              "       [ 0.58589594, -1.26909222,  0.36129015, -1.04233688],\n",
              "       [ 0.61188715, -0.53767077,  0.20029632,  0.0919709 ],\n",
              "       [-0.93822328, -1.54448493, -0.30567588,  0.0919709 ],\n",
              "       [ 1.69098177, -0.90520232,  1.59856702,  0.0919709 ],\n",
              "       [-0.01229126,  0.13411747,  1.17033631,  1.22627868],\n",
              "       [-1.09870669, -2.27432478, -0.14303336,  1.22627868],\n",
              "       [-0.24204762,  1.10024533, -0.90208169,  1.22627868],\n",
              "       [ 0.02722495, -0.06355517,  0.78032266,  0.0919709 ],\n",
              "       [ 1.45362461, -1.28460636,  1.27189493,  0.0919709 ],\n",
              "       [-0.36020988, -0.83083138,  0.08668068,  0.0919709 ],\n",
              "       [-0.55873604, -1.53138909,  0.01537109,  1.22627868],\n",
              "       [ 0.05516772,  0.76704607, -0.54360973,  0.0919709 ]])"
            ]
          },
          "metadata": {},
          "execution_count": 180
        }
      ]
    },
    {
      "cell_type": "markdown",
      "source": [
        "## Choosing Features\n",
        "Run only one cell below"
      ],
      "metadata": {
        "id": "m5hPQCFMQrxw"
      }
    },
    {
      "cell_type": "markdown",
      "source": [
        "###R&D Spend & Administration"
      ],
      "metadata": {
        "id": "dVa3kDprQz5r"
      }
    },
    {
      "cell_type": "code",
      "source": [
        "X_train = X_train[:,:2]\n",
        "X_test = X_test[:,:2]\n",
        "\n",
        "col_name1 = \"R&D Spend\"\n",
        "col_name2 = \"Administration\""
      ],
      "metadata": {
        "id": "looH8L2h6dZq"
      },
      "execution_count": 181,
      "outputs": []
    },
    {
      "cell_type": "markdown",
      "source": [
        "###Administration & Marketing Spend"
      ],
      "metadata": {
        "id": "29RAGhSLRIKQ"
      }
    },
    {
      "cell_type": "code",
      "source": [
        "X_train = X_train[:,1:3]\n",
        "X_test = X_test[:,1:3]\n",
        "\n",
        "col_name1 = \"Administration\"\n",
        "col_name2 = \"Marketing Spend\""
      ],
      "metadata": {
        "id": "1QcWPRxCRUKv"
      },
      "execution_count": 165,
      "outputs": []
    },
    {
      "cell_type": "markdown",
      "source": [
        "###Marketing Spend & State"
      ],
      "metadata": {
        "id": "OYYu9FksRMhE"
      }
    },
    {
      "cell_type": "code",
      "source": [
        "X_train = X_train[:,2:4]\n",
        "X_test = X_test[:,2:4]\n",
        "\n",
        "col_name1 = \"Marketing Spend\"\n",
        "col_name2 = \"State\""
      ],
      "metadata": {
        "id": "9gd6rOmhRbE2"
      },
      "execution_count": 137,
      "outputs": []
    },
    {
      "cell_type": "markdown",
      "metadata": {
        "id": "bb6jCOCQiAmP"
      },
      "source": [
        "## Training the Logistic Regression model on the Training set"
      ]
    },
    {
      "cell_type": "code",
      "metadata": {
        "id": "e0pFVAmciHQs",
        "colab": {
          "base_uri": "https://localhost:8080/"
        },
        "outputId": "28918f84-b59d-4bae-960f-907d371a52de"
      },
      "source": [
        "classifier = LogisticRegression(random_state = 0)\n",
        "classifier.fit(X_train, y_train)"
      ],
      "execution_count": 182,
      "outputs": [
        {
          "output_type": "execute_result",
          "data": {
            "text/plain": [
              "LogisticRegression(random_state=0)"
            ]
          },
          "metadata": {},
          "execution_count": 182
        }
      ]
    },
    {
      "cell_type": "markdown",
      "metadata": {
        "id": "yyxW5b395mR2"
      },
      "source": [
        "## Predicting a new result"
      ]
    },
    {
      "cell_type": "code",
      "metadata": {
        "id": "f8YOXsQy58rP",
        "colab": {
          "base_uri": "https://localhost:8080/"
        },
        "outputId": "ea80456f-2711-4cf3-8dc2-990760afbb49"
      },
      "source": [
        "print(classifier.predict(X_test))"
      ],
      "execution_count": 183,
      "outputs": [
        {
          "output_type": "stream",
          "name": "stdout",
          "text": [
            "[0 1 1 0 1 0 0 0 0 1 0 0 0]\n"
          ]
        }
      ]
    },
    {
      "cell_type": "code",
      "source": [
        "print(y_test)"
      ],
      "metadata": {
        "colab": {
          "base_uri": "https://localhost:8080/"
        },
        "id": "VHC-iV9uBlnW",
        "outputId": "c7be85a2-de70-4127-807b-0fe34999b49f"
      },
      "execution_count": 184,
      "outputs": [
        {
          "output_type": "stream",
          "name": "stdout",
          "text": [
            "[0 1 1 0 1 0 0 0 0 1 0 0 0]\n"
          ]
        }
      ]
    },
    {
      "cell_type": "markdown",
      "metadata": {
        "id": "vKYVQH-l5NpE"
      },
      "source": [
        "## Predicting the Test set results"
      ]
    },
    {
      "cell_type": "code",
      "metadata": {
        "id": "p6VMTb2O4hwM",
        "colab": {
          "base_uri": "https://localhost:8080/"
        },
        "outputId": "3af0f71f-ede3-4b62-83f3-fd0bdd78234b"
      },
      "source": [
        "y_pred = classifier.predict(X_test)\n",
        "print(np.concatenate((y_pred.reshape(len(y_pred),1), y_test.reshape(len(y_test),1)),1))"
      ],
      "execution_count": 185,
      "outputs": [
        {
          "output_type": "stream",
          "name": "stdout",
          "text": [
            "[[0 0]\n",
            " [1 1]\n",
            " [1 1]\n",
            " [0 0]\n",
            " [1 1]\n",
            " [0 0]\n",
            " [0 0]\n",
            " [0 0]\n",
            " [0 0]\n",
            " [1 1]\n",
            " [0 0]\n",
            " [0 0]\n",
            " [0 0]]\n"
          ]
        }
      ]
    },
    {
      "cell_type": "markdown",
      "metadata": {
        "id": "h4Hwj34ziWQW"
      },
      "source": [
        "## Making the Confusion Matrix"
      ]
    },
    {
      "cell_type": "code",
      "metadata": {
        "id": "D6bpZwUiiXic",
        "colab": {
          "base_uri": "https://localhost:8080/"
        },
        "outputId": "4d65237f-d5f6-4ef1-9c0f-af5edd627e55"
      },
      "source": [
        "cm = confusion_matrix(y_test, y_pred)\n",
        "print(cm)\n",
        "accuracy_score(y_test, y_pred)"
      ],
      "execution_count": 186,
      "outputs": [
        {
          "output_type": "stream",
          "name": "stdout",
          "text": [
            "[[9 0]\n",
            " [0 4]]\n"
          ]
        },
        {
          "output_type": "execute_result",
          "data": {
            "text/plain": [
              "1.0"
            ]
          },
          "metadata": {},
          "execution_count": 186
        }
      ]
    },
    {
      "cell_type": "markdown",
      "metadata": {
        "id": "6OMC_P0diaoD"
      },
      "source": [
        "## Visualising the Training set results"
      ]
    },
    {
      "cell_type": "code",
      "source": [
        "xmin = X_train[:, 0].min()\n",
        "xmax = X_train[:, 0].max()\n",
        "ymin = X_train[:, 1].min()\n",
        "ymax = X_train[:, 1].max()\n",
        "xx, yy = np.mgrid[xmin-2:xmax+2:.05, ymin-2:ymax+2:0.05]\n",
        "grid = np.c_[xx.ravel(), yy.ravel()]\n",
        "probs = classifier.predict_proba(grid)[:, 1].reshape(xx.shape)\n",
        "f, ax = plt.subplots(figsize=(8, 6))\n",
        "ax.contour(xx, yy, probs, levels=[.5], cmap=\"Greys\", vmin=0, vmax=.6)\n",
        "\n",
        "ax.scatter(X_train[:, 0], X_train[:, 1], s=50,\n",
        "           cmap=\"RdBu\", vmin=-.2, vmax=1.2,\n",
        "           edgecolor=\"white\", linewidth=1)\n",
        "\n",
        "ax.set(aspect=\"equal\",\n",
        "       xlim=(-2, 2), ylim=(-2, 2),\n",
        "       xlabel=\"$X_1$\", ylabel=\"$X_2$\")\n",
        "plt.title(col_name1+' vs '+col_name2+'(Training set)')\n",
        "plt.xlabel(col_name1)\n",
        "plt.ylabel(col_name2)\n",
        "plt.show()"
      ],
      "metadata": {
        "colab": {
          "base_uri": "https://localhost:8080/",
          "height": 425
        },
        "id": "ZhQE9u1wMqei",
        "outputId": "4a47bb52-33c4-4697-f735-f3844e4e0567"
      },
      "execution_count": 187,
      "outputs": [
        {
          "output_type": "display_data",
          "data": {
            "image/png": "[encoded data removed]",
            "text/plain": [
              "<Figure size 576x432 with 1 Axes>"
            ]
          },
          "metadata": {}
        }
      ]
    },
    {
      "cell_type": "markdown",
      "metadata": {
        "id": "SZ-j28aPihZx"
      },
      "source": [
        "## Visualising the Test set results"
      ]
    },
    {
      "cell_type": "code",
      "source": [
        "xmin = X_test[:, 0].min()\n",
        "xmax = X_test[:, 0].max()\n",
        "ymin = X_test[:, 1].min()\n",
        "ymax = X_test[:, 1].max()\n",
        "xx, yy = np.mgrid[xmin-2:xmax+2:.05, ymin-2:ymax+2:0.05]\n",
        "grid = np.c_[xx.ravel(), yy.ravel()]\n",
        "probs = classifier.predict_proba(grid)[:, 1].reshape(xx.shape)\n",
        "f, ax = plt.subplots(figsize=(8, 6))\n",
        "ax.contour(xx, yy, probs, levels=[.5], cmap=\"Greys\", vmin=0, vmax=.6)\n",
        "\n",
        "ax.scatter(X_test[:, 0], X_test[:, 1], s=50,\n",
        "           cmap=\"RdBu\", vmin=-.2, vmax=1.2,\n",
        "           edgecolor=\"white\", linewidth=1)\n",
        "\n",
        "ax.set(aspect=\"equal\",\n",
        "       xlim=(-2, 2), ylim=(-2, 2),\n",
        "       xlabel=\"$X_1$\", ylabel=\"$X_2$\")\n",
        "plt.title(col_name1+' vs '+col_name2+'(Test set)')\n",
        "plt.xlabel(col_name1)\n",
        "plt.ylabel(col_name2)\n",
        "plt.show()"
      ],
      "metadata": {
        "colab": {
          "base_uri": "https://localhost:8080/",
          "height": 425
        },
        "outputId": "96b7dd69-5fdd-4df5-faf2-5de2e2361e43",
        "id": "BLnev2NSTKXW"
      },
      "execution_count": 188,
      "outputs": [
        {
          "output_type": "display_data",
          "data": {
            "image/png": "[encoded data removed]",
            "text/plain": [
              "<Figure size 576x432 with 1 Axes>"
            ]
          },
          "metadata": {}
        }
      ]
    },
    {
      "cell_type": "markdown",
      "source": [
        "## Testing\n"
      ],
      "metadata": {
        "id": "xZ-0IR74UpvX"
      }
    },
    {
      "cell_type": "code",
      "source": [
        "# col_name = \"Administration\"\n",
        "# df = np.concatenate((X_train,classifier.predict(X_train).reshape(-1,1)),1)\n",
        "# df\n",
        "# df =  pd.DataFrame(df, columns = [\"x\",\"y\",\"Profit\"])\n",
        "# sns.set_style('whitegrid')\n",
        "# sns.lmplot(x =\"x\", y = \"y\", data=df, hue=\"Profit\", line_kws={\"color\":\"r\",\"alpha\":0.9,\"lw\":0.9})\n",
        "# plt.title(col_name+' vs Profit (Training set)')\n",
        "# plt.xlabel(col_name)\n",
        "# plt.ylabel('Profit')\n",
        "# plt.show()"
      ],
      "metadata": {
        "id": "iPOyO2T6DT58"
      },
      "execution_count": 189,
      "outputs": []
    },
    {
      "cell_type": "code",
      "metadata": {
        "id": "_NOjKvZRid5l"
      },
      "source": [
        "# X_set, y_set = sc.inverse_transform(X_train[:,2:]), y_train\n",
        "# X1, X2 = np.meshgrid(np.arange(start = X_set[:, 0].min() - 10, stop = X_set[:, 0].max(), step = 1),\n",
        "#                      np.arange(start = X_set[:, 1].min() - 1000, stop = X_set[:, 1].max(), step = 1))\n",
        "# plt.contourf(X1, X2, classifier.predict(sc.transform(np.array([X1.ravel(), X2.ravel()]).T)).reshape(X1.shape),\n",
        "#              alpha = 0.9, cmap = ListedColormap(('lightcyan', 'khaki')))\n",
        "# plt.xlim(X1.min(), X1.max())\n",
        "# plt.ylim(X2.min(), X2.max())\n",
        "# for i, j in enumerate(np.unique(y_set)):\n",
        "#     plt.scatter(X_set[y_set == j, 0], X_set[y_set == j, 1], color = ListedColormap(('steelblue', 'darkgoldenrod'))(i), label = j)\n",
        "# plt.title('Logistic Regression (Training set)')\n",
        "# plt.xlabel('Salary')\n",
        "# plt.ylabel('Estimated Salary')\n",
        "# plt.legend()\n",
        "# plt.show()"
      ],
      "execution_count": 190,
      "outputs": []
    },
    {
      "cell_type": "code",
      "metadata": {
        "id": "qeTjz2vDilAC"
      },
      "source": [
        "# X_set, y_set = sc.inverse_transform(X_test[:, 2:]), y_test\n",
        "# X1, X2 = np.meshgrid(np.arange(start = X_set[:, 0].min() - 10, stop = X_set[:, 0].max() + 10, step = 0.25),\n",
        "#                      np.arange(start = X_set[:, 1].min() - 1000, stop = X_set[:, 1].max() + 1000, step = 0.25))\n",
        "# plt.contourf(X1, X2, classifier.predict(sc.transform(np.array([X1.ravel(), X2.ravel()]).T)).reshape(X1.shape),\n",
        "#              alpha = 0.75, cmap = ListedColormap(('lightcyan', 'khaki')))\n",
        "# plt.xlim(X1.min(), X1.max())\n",
        "# plt.ylim(X2.min(), X2.max())\n",
        "# for i, j in enumerate(np.unique(y_set)):\n",
        "#     plt.scatter(X_set[y_set == j, 0], X_set[y_set == j, 1], color = ListedColormap(('steelblue', 'darkgoldenrod'))(i), label = j)\n",
        "# plt.title('Logistic Regression (Test set)')\n",
        "# plt.xlabel('Age')\n",
        "# plt.ylabel('Estimated Salary')\n",
        "# plt.legend()\n",
        "# plt.show()"
      ],
      "execution_count": 191,
      "outputs": []
    },
    {
      "cell_type": "code",
      "source": [
        "# xmin = X_train[:, 0].min()\n",
        "# xmax = X_train[:, 0].max()\n",
        "# ymin = X_train[:, 1].min()\n",
        "# ymax = X_train[:, 1].max()\n",
        "# xx, yy = np.mgrid[xmin-2:xmax+2:.05, ymin-2:ymax+2:0.05]\n",
        "# grid = np.c_[xx.ravel(), yy.ravel()]\n",
        "# probs = classifier.predict_proba(grid)[:, 1].reshape(xx.shape)\n",
        "# f, ax = plt.subplots(figsize=(8, 6))\n",
        "# contour = ax.contourf(xx, yy, probs, 25, cmap=\"RdBu\", vmin=0, vmax=1)\n",
        "# ax_c = f.colorbar(contour)\n",
        "# ax_c.set_label(\"$P(y = 1)$\")\n",
        "# ax_c.set_ticks([0, .25, .5, .75, 1])\n",
        "\n",
        "# ax.scatter(X_train[:, 0], X_train[:, 1], s=50,\n",
        "#            cmap=\"RdBu\", vmin=-.2, vmax=1.2,\n",
        "#            edgecolor=\"white\", linewidth=1)\n",
        "\n",
        "# ax.set(aspect=\"equal\",\n",
        "#        xlim=(-2, 2), ylim=(-2, 2),\n",
        "#        xlabel=\"$X_1$\", ylabel=\"$X_2$\")\n",
        "\n",
        "# plt.title(col_name+' vs Profit (Training set)')\n",
        "# plt.xlabel(col_name)\n",
        "# plt.ylabel('Profit')\n",
        "# plt.show()"
      ],
      "metadata": {
        "id": "XnB56pwSzWhL"
      },
      "execution_count": 192,
      "outputs": []
    }
  ]
}